{
 "cells": [
  {
   "cell_type": "code",
   "execution_count": 2,
   "metadata": {},
   "outputs": [
    {
     "name": "stdout",
     "output_type": "stream",
     "text": [
      "Adjacency Matrix is :\n",
      " [[0 1 0 0 0 0 0 0]\n",
      " [1 0 1 1 0 0 0 0]\n",
      " [0 1 0 1 0 0 0 0]\n",
      " [0 1 1 0 1 0 0 0]\n",
      " [0 0 0 1 0 1 1 1]\n",
      " [0 0 0 0 1 0 0 1]\n",
      " [0 0 0 0 1 0 0 1]\n",
      " [0 0 0 0 1 1 1 0]]\n"
     ]
    }
   ],
   "source": [
    "import numpy as np\n",
    "from scipy import sparse\n",
    "import pandas as pd\n",
    "\n",
    "\n",
    "#file \n",
    "filename = \"graph.dat\"\n",
    "\n",
    "#function to create adjacency matrix,This is updated functions in order to deal with large network.\n",
    "def Adjacency_Matrix(filename):\n",
    "    #reading csv file  in pandas \n",
    "    df=pd.read_csv(filename,sep=\" \", comment='%',header= None,dtype=np.int32)\n",
    "    \n",
    "    #defining columns\n",
    "    df.columns = ['node1', 'node2']\n",
    "    #taking size \n",
    "    size=max(max(df.node1),max(df.node2))\n",
    "    rows = df['node1']\n",
    "    cols = df['node2']\n",
    "    #creating ones matrix\n",
    "    ones = np.ones(len(rows), np.int32)\n",
    "    adjacency_matrix = sparse.csc_matrix((ones, (rows-1, cols-1)),shape=(size,size))\n",
    "    adjacency_matrix=adjacency_matrix.transpose()+adjacency_matrix\n",
    "    return adjacency_matrix\n",
    "\n",
    "adjacency_M= Adjacency_Matrix(filename)\n",
    "print('Adjacency Matrix is :\\n',adjacency_M.todense())"
   ]
  },
  {
   "cell_type": "code",
   "execution_count": 3,
   "metadata": {},
   "outputs": [
    {
     "name": "stdout",
     "output_type": "stream",
     "text": [
      "Gini Coefficient is : 0.1875\n"
     ]
    }
   ],
   "source": [
    "def Gini_coefficient(A_matrix):\n",
    "    degree_array=np.sort(A_matrix.sum(0,dtype=np.int32))\n",
    "    sum_degree=degree_array.sum()\n",
    "    sum_rank_degree=0\n",
    "    i=1\n",
    "    degree_array=np.array(degree_array)\n",
    "    for degree in degree_array[0]:\n",
    "        sum_rank_degree += (i*degree)\n",
    "        i+=1\n",
    "    sum_degree,sum_rank_degree\n",
    "    g=np.divide(2*sum_rank_degree,len(degree_array[0])*sum_degree)\n",
    "    g=g-(np.divide(len(degree_array[0])+1,len(degree_array[0])))\n",
    "    return g\n",
    "gini_Coef= Gini_coefficient(adjacency_M)\n",
    "print(\"Gini Coefficient is :\",gini_Coef)\n"
   ]
  },
  {
   "cell_type": "code",
   "execution_count": 4,
   "metadata": {},
   "outputs": [
    {
     "name": "stdout",
     "output_type": "stream",
     "text": [
      "Number of triangle count are: 3.0\n"
     ]
    }
   ],
   "source": [
    "#function to calculate triangle and took lot of time to figure out optimal method for large network\n",
    "def Triangle_Count(A):\n",
    "    \n",
    "    no_of_triangle=0\n",
    "    for i in range(np.shape(A)[0]):\n",
    "        no_of_triangle +=(A[i,:].dot(A).dot(A[i,:].T))\n",
    "\n",
    "    no_of_triangle=np.divide(no_of_triangle,6)\n",
    "    return no_of_triangle[0,0]\n",
    "\n",
    "num_Triangle=Triangle_Count(adjacency_M)\n",
    "print(\"Number of triangle count are:\",num_Triangle)\n"
   ]
  },
  {
   "cell_type": "markdown",
   "metadata": {},
   "source": []
  },
  {
   "cell_type": "code",
   "execution_count": 5,
   "metadata": {},
   "outputs": [],
   "source": [
    "#Scalability test of function using gowalla network \n",
    "filename='out.loc-gowalla_edges'\n",
    "#creating adjacency matrix\n",
    "adjacency_M= Adjacency_Matrix(filename)"
   ]
  },
  {
   "cell_type": "code",
   "execution_count": 6,
   "metadata": {},
   "outputs": [
    {
     "name": "stdout",
     "output_type": "stream",
     "text": [
      "Gini Coefficient for Gowalla Network is : 68.33529689546158 %\n"
     ]
    }
   ],
   "source": [
    "#calculating gini coefficient\n",
    "gini_Coef= Gini_coefficient(adjacency_M)\n",
    "print(\"Gini Coefficient for Gowalla Network is :\",gini_Coef*100,'%')"
   ]
  },
  {
   "cell_type": "code",
   "execution_count": 7,
   "metadata": {},
   "outputs": [
    {
     "name": "stdout",
     "output_type": "stream",
     "text": [
      "Number of triangle count are: 2273138.0\n",
      "Time taken:  474.70176025 sec\n"
     ]
    }
   ],
   "source": [
    "import timeit\n",
    "\n",
    "start = timeit.default_timer()\n",
    "\n",
    "num_Triangle=Triangle_Count(adjacency_M)\n",
    "print(\"Number of triangle count are:\",num_Triangle)\n",
    "\n",
    "stop = timeit.default_timer()\n",
    "\n",
    "print('Time taken: ', stop - start,'sec') \n",
    "\n"
   ]
  },
  {
   "cell_type": "code",
   "execution_count": null,
   "metadata": {},
   "outputs": [],
   "source": []
  },
  {
   "cell_type": "code",
   "execution_count": null,
   "metadata": {},
   "outputs": [],
   "source": []
  }
 ],
 "metadata": {
  "kernelspec": {
   "display_name": "Python 3",
   "language": "python",
   "name": "python3"
  },
  "language_info": {
   "codemirror_mode": {
    "name": "ipython",
    "version": 3
   },
   "file_extension": ".py",
   "mimetype": "text/x-python",
   "name": "python",
   "nbconvert_exporter": "python",
   "pygments_lexer": "ipython3",
   "version": "3.7.4"
  },
  "toc": {
   "base_numbering": 1,
   "nav_menu": {},
   "number_sections": true,
   "sideBar": true,
   "skip_h1_title": false,
   "title_cell": "Table of Contents",
   "title_sidebar": "Contents",
   "toc_cell": false,
   "toc_position": {},
   "toc_section_display": true,
   "toc_window_display": false
  },
  "varInspector": {
   "cols": {
    "lenName": 16,
    "lenType": 16,
    "lenVar": 40
   },
   "kernels_config": {
    "python": {
     "delete_cmd_postfix": "",
     "delete_cmd_prefix": "del ",
     "library": "var_list.py",
     "varRefreshCmd": "print(var_dic_list())"
    },
    "r": {
     "delete_cmd_postfix": ") ",
     "delete_cmd_prefix": "rm(",
     "library": "var_list.r",
     "varRefreshCmd": "cat(var_dic_list()) "
    }
   },
   "types_to_exclude": [
    "module",
    "function",
    "builtin_function_or_method",
    "instance",
    "_Feature"
   ],
   "window_display": false
  }
 },
 "nbformat": 4,
 "nbformat_minor": 2
}
