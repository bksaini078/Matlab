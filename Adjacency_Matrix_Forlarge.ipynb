{
 "cells": [
  {
   "cell_type": "code",
   "execution_count": null,
   "metadata": {},
   "outputs": [],
   "source": [
    "import numpy as np\n",
    "from scipy import sparse\n",
    "import pandas as pd\n",
    "\n",
    "\n",
    "#file \n",
    "filename = \"Filename.dat\"\n",
    "\n",
    "#function to create adjacency matrix,This functions we have created in order to deal with large network.\n",
    "def Adjacency_Matrix(filename):\n",
    "    #reading csv file  in pandas \n",
    "    df=pd.read_csv(filename,sep=\" \", comment='%',header= None,dtype=np.int32)\n",
    "    \n",
    "    #defining columns\n",
    "    df.columns = ['node1', 'node2']\n",
    "    #taking size \n",
    "    size=max(max(df.node1),max(df.node2))\n",
    "    rows = df['node1']\n",
    "    cols = df['node2']\n",
    "    #creating ones matrix\n",
    "    ones = np.ones(len(rows), np.int32)\n",
    "    adjacency_matrix = sparse.csc_matrix((ones, (rows-1, cols-1)),shape=(size,size))\n",
    "    adjacency_matrix=adjacency_matrix.transpose()+adjacency_matrix\n",
    "    return adjacency_matrix\n",
    "\n",
    "adjacency_M= Adjacency_Matrix(filename)\n",
    "\n",
    "# adjacency_M=adjacency_M.todense()\n",
    "I_matrix=np.diag(np.ones(np.shape(adjacency_M)[0], np.int32))\n",
    "A_I= adjacency_M+I_matrix\n",
    "print('Adjacency Matrix is :\\n',adjacency_M.todense())"
   ]
  }
 ],
 "metadata": {
  "kernelspec": {
   "display_name": "Python 3",
   "language": "python",
   "name": "python3"
  },
  "language_info": {
   "codemirror_mode": {
    "name": "ipython",
    "version": 3
   },
   "file_extension": ".py",
   "mimetype": "text/x-python",
   "name": "python",
   "nbconvert_exporter": "python",
   "pygments_lexer": "ipython3",
   "version": "3.7.4"
  },
  "toc": {
   "base_numbering": 1,
   "nav_menu": {},
   "number_sections": true,
   "sideBar": true,
   "skip_h1_title": false,
   "title_cell": "Table of Contents",
   "title_sidebar": "Contents",
   "toc_cell": false,
   "toc_position": {},
   "toc_section_display": true,
   "toc_window_display": false
  },
  "varInspector": {
   "cols": {
    "lenName": 16,
    "lenType": 16,
    "lenVar": 40
   },
   "kernels_config": {
    "python": {
     "delete_cmd_postfix": "",
     "delete_cmd_prefix": "del ",
     "library": "var_list.py",
     "varRefreshCmd": "print(var_dic_list())"
    },
    "r": {
     "delete_cmd_postfix": ") ",
     "delete_cmd_prefix": "rm(",
     "library": "var_list.r",
     "varRefreshCmd": "cat(var_dic_list()) "
    }
   },
   "types_to_exclude": [
    "module",
    "function",
    "builtin_function_or_method",
    "instance",
    "_Feature"
   ],
   "window_display": false
  }
 },
 "nbformat": 4,
 "nbformat_minor": 2
}
